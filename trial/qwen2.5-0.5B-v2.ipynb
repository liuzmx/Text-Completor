{
 "cells": [
  {
   "cell_type": "code",
   "execution_count": null,
   "metadata": {},
   "outputs": [
    {
     "data": {
      "application/vnd.jupyter.widget-view+json": {
       "model_id": "12ec2c83c90f4843ae222dabdf690f78",
       "version_major": 2,
       "version_minor": 0
      },
      "text/plain": [
       "Map:   0%|          | 0/2 [00:00<?, ? examples/s]"
      ]
     },
     "metadata": {},
     "output_type": "display_data"
    },
    {
     "name": "stderr",
     "output_type": "stream",
     "text": [
      "/data/liuzhiming/.miniconda3/envs/text-completor/lib/python3.11/site-packages/transformers/tokenization_utils_base.py:3953: UserWarning: `as_target_tokenizer` is deprecated and will be removed in v5 of Transformers. You can tokenize your labels by using the argument `text_target` of the regular `__call__` method (either in the same call as your input texts if you use the same keyword arguments, or in a separate call.\n",
      "  warnings.warn(\n",
      "/data/liuzhiming/.miniconda3/envs/text-completor/lib/python3.11/site-packages/transformers/training_args.py:1575: FutureWarning: `evaluation_strategy` is deprecated and will be removed in version 4.46 of 🤗 Transformers. Use `eval_strategy` instead\n",
      "  warnings.warn(\n"
     ]
    },
    {
     "data": {
      "text/html": [
       "\n",
       "    <div>\n",
       "      \n",
       "      <progress value='3' max='3' style='width:300px; height:20px; vertical-align: middle;'></progress>\n",
       "      [3/3 00:26, Epoch 3/3]\n",
       "    </div>\n",
       "    <table border=\"1\" class=\"dataframe\">\n",
       "  <thead>\n",
       " <tr style=\"text-align: left;\">\n",
       "      <th>Epoch</th>\n",
       "      <th>Training Loss</th>\n",
       "      <th>Validation Loss</th>\n",
       "    </tr>\n",
       "  </thead>\n",
       "  <tbody>\n",
       "    <tr>\n",
       "      <td>1</td>\n",
       "      <td>No log</td>\n",
       "      <td>9.158321</td>\n",
       "    </tr>\n",
       "    <tr>\n",
       "      <td>2</td>\n",
       "      <td>No log</td>\n",
       "      <td>3.343310</td>\n",
       "    </tr>\n",
       "    <tr>\n",
       "      <td>3</td>\n",
       "      <td>No log</td>\n",
       "      <td>1.816067</td>\n",
       "    </tr>\n",
       "  </tbody>\n",
       "</table><p>"
      ],
      "text/plain": [
       "<IPython.core.display.HTML object>"
      ]
     },
     "metadata": {},
     "output_type": "display_data"
    },
    {
     "data": {
      "text/plain": [
       "('./fine_tuned_qwen_2.5-0.5B/tokenizer_config.json',\n",
       " './fine_tuned_qwen_2.5-0.5B/special_tokens_map.json',\n",
       " './fine_tuned_qwen_2.5-0.5B/vocab.json',\n",
       " './fine_tuned_qwen_2.5-0.5B/merges.txt',\n",
       " './fine_tuned_qwen_2.5-0.5B/added_tokens.json',\n",
       " './fine_tuned_qwen_2.5-0.5B/tokenizer.json')"
      ]
     },
     "execution_count": 4,
     "metadata": {},
     "output_type": "execute_result"
    }
   ],
   "source": [
    "import json\n",
    "from transformers import AutoModelForCausalLM, AutoTokenizer, Trainer, TrainingArguments\n",
    "from datasets import Dataset\n",
    "import torch\n",
    "import os\n",
    "\n",
    "os.environ[\"CUDA_VISIBLE_DEVICES\"] = \"1\"\n",
    "\n",
    "# 加载预训练的tokenizer和model\n",
    "model_name = \"/data/modelscope/Qwen2.5-0.5B\"\n",
    "tokenizer = AutoTokenizer.from_pretrained(model_name)\n",
    "model = AutoModelForCausalLM.from_pretrained(model_name)\n",
    "\n",
    "\n",
    "# 示例数据\n",
    "data = [\n",
    "    {\n",
    "        \"prefix\": \"今天天气很好，我和朋友去公园散步，我们看到了\",\n",
    "        \"middle\": \"很多人在那里玩耍。有的人在树荫下乘凉，有的人在野地里烧烤，还有的人在捉迷藏，看谁先看见金鱼。\",\n",
    "        \"suffix\": \"太阳光耀着大地，万物生长得如此之茂盛，我和朋友去公园散步，\",\n",
    "    },\n",
    "    {\n",
    "        \"prefix\": \"昨天我在图书馆借了一本书，书名是\",\n",
    "        \"middle\": \"《活着》，\",\n",
    "        \"suffix\": \"作者是余华。这本书非常值得一读。\",\n",
    "    },\n",
    "]\n",
    "\n",
    "# 将数据转换为Dataset对象\n",
    "dataset = Dataset.from_list(data)\n",
    "\n",
    "\n",
    "def preprocess_function(example):\n",
    "\n",
    "    input_sequence = f\"<__PREFIX__>{example['prefix']}\\n\\n<__MIDDLE__>[MASK]\\n\\n<__SUFFIX__>{example['suffix']}\"\n",
    "    target_sequence = f\"<__PREFIX__>{example['prefix']}\\n\\n<__MIDDLE__>{example['middle']}\\n\\n<__SUFFIX__>\"\n",
    "\n",
    "    model_inputs = tokenizer(input_sequence, max_length=256, truncation=True, padding=\"max_length\")\n",
    "    with tokenizer.as_target_tokenizer():\n",
    "        labels = tokenizer(target_sequence, max_length=256, truncation=True, padding=\"max_length\")\n",
    "\n",
    "    model_inputs[\"labels\"] = labels[\"input_ids\"]\n",
    "    return model_inputs\n",
    "\n",
    "\n",
    "tokenized_datasets = dataset.map(preprocess_function, batched=False)\n",
    "\n",
    "# 定义训练参数\n",
    "training_args = TrainingArguments(\n",
    "    output_dir=\"./results\",\n",
    "    evaluation_strategy=\"epoch\",\n",
    "    learning_rate=2e-5,\n",
    "    per_device_train_batch_size=2,\n",
    "    per_device_eval_batch_size=2,\n",
    "    num_train_epochs=3,\n",
    "    weight_decay=0.01,\n",
    "    logging_dir=\"./logs\",\n",
    "    logging_steps=10,\n",
    ")\n",
    "\n",
    "# 定义Trainer\n",
    "trainer = Trainer(\n",
    "    model=model,\n",
    "    args=training_args,\n",
    "    train_dataset=tokenized_datasets,\n",
    "    eval_dataset=tokenized_datasets,\n",
    ")\n",
    "\n",
    "# 开始微调\n",
    "trainer.train()\n",
    "\n",
    "# 保存微调后的模型\n",
    "model.save_pretrained(\"./fine_tuned_qwen_2.5-0.5B\")\n",
    "tokenizer.save_pretrained(\"./fine_tuned_qwen_2.5-0.5B\")"
   ]
  },
  {
   "cell_type": "code",
   "execution_count": null,
   "metadata": {},
   "outputs": [],
   "source": []
  },
  {
   "cell_type": "code",
   "execution_count": 9,
   "metadata": {},
   "outputs": [
    {
     "name": "stderr",
     "output_type": "stream",
     "text": [
      "The attention mask and the pad token id were not set. As a consequence, you may observe unexpected behavior. Please pass your input's `attention_mask` to obtain reliable results.\n",
      "Setting `pad_token_id` to `eos_token_id`:151643 for open-end generation.\n"
     ]
    },
    {
     "name": "stdout",
     "output_type": "stream",
     "text": [
      "<__PREFIX__>昨天我在图书馆借了一本书，书名是\n",
      "\n",
      "<__MIDDLE__>[MASK]\n",
      "\n",
      "<__SUFFIX__>作者是余华。这本书非常值得一读。\n",
      "Predicted middle part: \n"
     ]
    }
   ],
   "source": [
    "# 使用微调后的模型进行预测\n",
    "def predict_missing_text(prefix, suffix, fine_tuned_model, fine_tuned_tokenizer):\n",
    "    input_sequence = f\"<__PREFIX__>{prefix}\\n\\n<__MIDDLE__>[MASK]\\n\\n<__SUFFIX__>{suffix}\"\n",
    "    inputs = fine_tuned_tokenizer(input_sequence, return_tensors=\"pt\")\n",
    "\n",
    "    with torch.no_grad():\n",
    "        outputs = fine_tuned_model.generate(\n",
    "            inputs.input_ids,\n",
    "            max_new_tokens=128,\n",
    "            num_return_sequences=1,\n",
    "            do_sample=True,\n",
    "            top_k=50,\n",
    "            top_p=0.95\n",
    "        )\n",
    "\n",
    "    predicted_text = fine_tuned_tokenizer.decode(outputs[0], skip_special_tokens=True)\n",
    "    print(predicted_text)\n",
    "\n",
    "    start_index = predicted_text.find(suffix) + len(suffix)\n",
    "    end_index = predicted_text.rfind(\"\\n\", start_index)\n",
    "    if end_index == -1:\n",
    "        end_index = len(predicted_text)\n",
    "\n",
    "    predicted_middle_part = predicted_text[start_index:end_index].strip()\n",
    "\n",
    "    return predicted_middle_part\n",
    "\n",
    "# 加载微调后的模型和分词器\n",
    "fine_tuned_model = AutoModelForCausalLM.from_pretrained(\"./fine_tuned_qwen_2.5-0.5B\")\n",
    "fine_tuned_tokenizer = AutoTokenizer.from_pretrained(\"./fine_tuned_qwen_2.5-0.5B\")\n",
    "\n",
    "# 示例用法\n",
    "prefix = \"昨天我在图书馆借了一本书，书名是\"\n",
    "suffix = \"作者是余华。这本书非常值得一读。\"\n",
    "\n",
    "predicted_middle_part = predict_missing_text(prefix, suffix, fine_tuned_model, fine_tuned_tokenizer)\n",
    "print(f\"Predicted middle part: {predicted_middle_part}\")"
   ]
  }
 ],
 "metadata": {
  "kernelspec": {
   "display_name": "text-completor",
   "language": "python",
   "name": "python3"
  },
  "language_info": {
   "codemirror_mode": {
    "name": "ipython",
    "version": 3
   },
   "file_extension": ".py",
   "mimetype": "text/x-python",
   "name": "python",
   "nbconvert_exporter": "python",
   "pygments_lexer": "ipython3",
   "version": "3.11.11"
  }
 },
 "nbformat": 4,
 "nbformat_minor": 2
}
